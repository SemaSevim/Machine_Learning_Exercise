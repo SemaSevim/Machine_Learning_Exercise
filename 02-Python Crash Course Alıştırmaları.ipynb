{
 "cells": [
  {
   "cell_type": "markdown",
   "metadata": {},
   "source": [
    "___\n",
    "\n",
    "<a href='http://pvs.bilecik.edu.tr/salim.ceyhan/'> <img src='../images/crashcourse.png' /></a>\n",
    "___"
   ]
  },
  {
   "cell_type": "markdown",
   "metadata": {},
   "source": [
    "# Python Hızlandırılmış Kurs Egzersizleri\n",
    "\n",
    "Linkteki kitaptan yararlanabilirsiniz: [Python Crash Course Book](http://bedford-computing.co.uk/learning/wp-content/uploads/2015/10/No.Starch.Python.Oct_.2015.ISBN_.1593276036.pdf)."
   ]
  },
  {
   "cell_type": "markdown",
   "metadata": {},
   "source": [
    "## Egzersizler\n",
    "\n",
    "- Talimatlar\n",
    "Aşağıda belirtilen soruları veya görevleri tamamlayın. Cevap vereceğiniz soruların, Python kodunu ilgili hücreye yazın. Unutmayın, bir hücreyi çalıştırdığınızda verilen doğru cevap **silinebilir.**\n",
    "\n",
    "- Özel Not\n",
    "En sonda, sizden bir fonksiyon oluşturmanız isteniyor. Bu fonksiyonun nasıl çalışması gerektiği iki örnek ile gösteriliyor."
   ]
  },
  {
   "cell_type": "markdown",
   "metadata": {},
   "source": [
    "**7'nin 4. kuvveti nedir?**"
   ]
  },
  {
   "cell_type": "code",
   "execution_count": 1,
   "metadata": {},
   "outputs": [
    {
     "data": {
      "text/plain": [
       "2401"
      ]
     },
     "execution_count": 1,
     "metadata": {},
     "output_type": "execute_result"
    }
   ],
   "source": [
    "7**4"
   ]
  },
  {
   "cell_type": "markdown",
   "metadata": {},
   "source": [
    "    s = \"Hi there dad!\"\n",
    "    \n",
    "**String'i bir liste olarak parçalara ayırın.**"
   ]
  },
  {
   "cell_type": "code",
   "execution_count": 7,
   "metadata": {
    "collapsed": true
   },
   "outputs": [
    {
     "data": {
      "text/plain": [
       "['Hi', 'there', 'dad!']"
      ]
     },
     "execution_count": 7,
     "metadata": {},
     "output_type": "execute_result"
    }
   ],
   "source": [
    "s.split()"
   ]
  },
  {
   "cell_type": "code",
   "execution_count": 3,
   "metadata": {},
   "outputs": [
    {
     "data": {
      "text/plain": [
       "['Hi', 'there', 'dad!']"
      ]
     },
     "execution_count": 3,
     "metadata": {},
     "output_type": "execute_result"
    }
   ],
   "source": []
  },
  {
   "cell_type": "markdown",
   "metadata": {},
   "source": [
    "- Verilen değişkenleri kullanarak belirtilen stringi ekrana yazdırın.\n",
    "```python\n",
    "    gezegen = \"Dünya\"\n",
    "    cap = 12742\n",
    "```\n",
    "- F-string formatlaması (f'') kullanarak aşağıdaki metni oluşturun ve ekrana yazdırın:\n",
    "```python\n",
    "    Dünyanın çapı 12742 kilometredir.\n",
    "```"
   ]
  },
  {
   "cell_type": "code",
   "execution_count": 8,
   "metadata": {},
   "outputs": [],
   "source": [
    "gezegen = \"Dünya\"\n",
    "cap = 12742"
   ]
  },
  {
   "cell_type": "code",
   "execution_count": 10,
   "metadata": {},
   "outputs": [
    {
     "name": "stdout",
     "output_type": "stream",
     "text": [
      "Dünyanın çapı 12742 kilometredir\n"
     ]
    }
   ],
   "source": [
    "print(f\"{gezegen}nın çapı {cap} kilometredir\")"
   ]
  },
  {
   "cell_type": "code",
   "execution_count": 6,
   "metadata": {},
   "outputs": [
    {
     "name": "stdout",
     "output_type": "stream",
     "text": [
      "Dünyanın çapı 12742 kilometredir.\n"
     ]
    }
   ],
   "source": []
  },
  {
   "cell_type": "markdown",
   "metadata": {},
   "source": [
    "**İç içe listesindeki 'hello' kelimesini almak için indeksleme kullanın.**"
   ]
  },
  {
   "cell_type": "code",
   "execution_count": 11,
   "metadata": {
    "collapsed": true
   },
   "outputs": [],
   "source": [
    "lst = [1,2,[3,4],[5,[100,200,['hello']],23,11],1,7]"
   ]
  },
  {
   "cell_type": "code",
   "execution_count": 15,
   "metadata": {},
   "outputs": [
    {
     "data": {
      "text/plain": [
       "'hello'"
      ]
     },
     "execution_count": 15,
     "metadata": {},
     "output_type": "execute_result"
    }
   ],
   "source": [
    "lst[3][1][2][0]"
   ]
  },
  {
   "cell_type": "code",
   "execution_count": 14,
   "metadata": {},
   "outputs": [
    {
     "data": {
      "text/plain": [
       "'hello'"
      ]
     },
     "execution_count": 14,
     "metadata": {},
     "output_type": "execute_result"
    }
   ],
   "source": []
  },
  {
   "cell_type": "markdown",
   "metadata": {},
   "source": [
    "**İç içe sözlükteki 'hello' kelimesini alın (Can sıkıcı veya zor olabilir!)**"
   ]
  },
  {
   "cell_type": "code",
   "execution_count": 31,
   "metadata": {},
   "outputs": [],
   "source": [
    "d = {'k1':[1,2,3,{'tricky':['oh','man','inception',{'target':[1,2,3,'hello']}]}]}"
   ]
  },
  {
   "cell_type": "code",
   "execution_count": 50,
   "metadata": {},
   "outputs": [
    {
     "name": "stdout",
     "output_type": "stream",
     "text": [
      "list3\n"
     ]
    }
   ],
   "source": [
    "list = d['k1'][3]\n",
    "\n",
    "list2 = list['tricky'][3]\n",
    "\n",
    "list3 = list2['target'][3]\n",
    "print(list3)\n"
   ]
  },
  {
   "cell_type": "code",
   "execution_count": 22,
   "metadata": {},
   "outputs": [
    {
     "data": {
      "text/plain": [
       "'hello'"
      ]
     },
     "execution_count": 22,
     "metadata": {},
     "output_type": "execute_result"
    }
   ],
   "source": []
  },
  {
   "cell_type": "markdown",
   "metadata": {},
   "source": [
    "**Tuple ve liste arasındaki temel fark nedir? Yazınız.**"
   ]
  },
  {
   "cell_type": "markdown",
   "metadata": {},
   "source": [
    "Tuple içindeki elemanlar tanımlandıktan sonra değiştirilemez.(immutable)"
   ]
  },
  {
   "cell_type": "markdown",
   "metadata": {},
   "source": [
    "**Aşağıdaki verilen e-posta string'inden web sitesi domain'ini alan domainGet isimli bir fonksiyon yazın**\n",
    "\n",
    "    user@domain.com\n",
    "    \n",
    "**Fonksiyona \"user@domain.com\" girildiğinde domain.com döndürecektir.**"
   ]
  },
  {
   "cell_type": "code",
   "execution_count": 61,
   "metadata": {
    "collapsed": true
   },
   "outputs": [],
   "source": [
    "def domainGet(email):\n",
    "    print(email.split('@')[1])\n",
    "\n"
   ]
  },
  {
   "cell_type": "code",
   "execution_count": 62,
   "metadata": {},
   "outputs": [
    {
     "name": "stdout",
     "output_type": "stream",
     "text": [
      "domain.com\n"
     ]
    }
   ],
   "source": [
    "domainGet('user@domain.com')"
   ]
  },
  {
   "cell_type": "markdown",
   "metadata": {},
   "source": [
    "**findDog** isimli bir fonksiyon oluşturun, bu fonksiyon verilen bir string içinde \"dog\" kelimesinin olup olmadığını kontrol etsin. Eğer \"dog\" kelimesi varsa, fonksiyon **True** döndürmelidir.\n",
    "\n",
    "Fonksiyon büyük-küçük harf duyarlı olmamalıdır."
   ]
  },
  {
   "cell_type": "code",
   "execution_count": 82,
   "metadata": {
    "collapsed": true
   },
   "outputs": [
    {
     "data": {
      "text/plain": [
       "True"
      ]
     },
     "execution_count": 82,
     "metadata": {},
     "output_type": "execute_result"
    }
   ],
   "source": [
    "def findDog(string):\n",
    "\n",
    "    if 'dog ' in string.lower() :\n",
    "        return True\n",
    "    else : return False    \n",
    "        \n",
    "\n",
    "findDog('Is there a DOg here?')\n"
   ]
  },
  {
   "cell_type": "code",
   "execution_count": 83,
   "metadata": {},
   "outputs": [
    {
     "data": {
      "text/plain": [
       "True"
      ]
     },
     "execution_count": 83,
     "metadata": {},
     "output_type": "execute_result"
    }
   ],
   "source": [
    "findDog('Is there a dog here?')"
   ]
  },
  {
   "cell_type": "markdown",
   "metadata": {},
   "source": [
    "**countDog** isimli bir fonksiyon oluşturun, bu fonksiyon verilen bir string içinde \"dog\" kelimesinin kaç kez geçtiğini saymalıdır.\n",
    "\n",
    "Fonksiyon büyük-küçük harf duyarlı olmamalıdır."
   ]
  },
  {
   "cell_type": "code",
   "execution_count": 88,
   "metadata": {},
   "outputs": [
    {
     "data": {
      "text/plain": [
       "4"
      ]
     },
     "execution_count": 88,
     "metadata": {},
     "output_type": "execute_result"
    }
   ],
   "source": [
    "def countDog(string):\n",
    "    \n",
    "    string = string.lower()\n",
    "    count = string.count(\"dog\")\n",
    "    return count\n",
    "\n",
    "countDog('This dog runs faster than the DOG dog other dog dude!')    \n"
   ]
  },
  {
   "cell_type": "code",
   "execution_count": 89,
   "metadata": {},
   "outputs": [
    {
     "data": {
      "text/plain": [
       "2"
      ]
     },
     "execution_count": 89,
     "metadata": {},
     "output_type": "execute_result"
    }
   ],
   "source": [
    "countDog('This dog runs faster than the other dog dude!')"
   ]
  },
  {
   "cell_type": "markdown",
   "metadata": {},
   "source": [
    "**Lambda ifadesi ve filter() fonksiyonunu kullanarak, bir liste içindeki kelimeleri filtreleyin. Filtrelenmiş liste yalnızca \"s\" harfi ile başlayan kelimeler içermelidir. Örneğin:**\n",
    "\n",
    "    seq = ['soup','dog','salad','cat','great']\n",
    "\n",
    "**filtrelenmenmiş liste:**\n",
    "\n",
    "    ['soup','salad']"
   ]
  },
  {
   "cell_type": "code",
   "execution_count": 1,
   "metadata": {
    "collapsed": true
   },
   "outputs": [],
   "source": [
    "seq = ['soup','dog','salad','cat','great']"
   ]
  },
  {
   "cell_type": "code",
   "execution_count": 3,
   "metadata": {},
   "outputs": [
    {
     "name": "stdout",
     "output_type": "stream",
     "text": [
      "['soup', 'salad']\n"
     ]
    }
   ],
   "source": [
    "my_list = list(filter(lambda x: x[0] == 's', seq))\n",
    "print(my_list)"
   ]
  },
  {
   "cell_type": "code",
   "execution_count": 35,
   "metadata": {},
   "outputs": [
    {
     "data": {
      "text/plain": [
       "['soup', 'salad']"
      ]
     },
     "execution_count": 35,
     "metadata": {},
     "output_type": "execute_result"
    }
   ],
   "source": []
  },
  {
   "cell_type": "markdown",
   "metadata": {},
   "source": [
    "### Final Problem\n",
    "Bir polis tarafından durdurulduğunuzda alabileceğiniz olası cezaları belirlemek için bir Python fonksiyonu yazın. Fonksiyon, sürüş hızınız ve doğum gününüz olup olmadığına dair bir mantıksal değer alacak.\n",
    "### Fonksiyon Davranışları\n",
    "- Doğum gününüz değilse ve hızınız 60 veya daha az ise, \"Ceza Yok\" döner.\n",
    "- Doğum gününüz değilse ve hız 61 ile 80 (dahil) arasındaysa, \"Küçük Ceza\" döner.\n",
    "- Doğum gününüz değilse ve hız 81 veya daha fazla ise, \"Büyük Ceza\" döner.\n",
    "- Doğum gününüzde hız limitlerinizi 5 birim aşabilirsiniz."
   ]
  },
  {
   "cell_type": "code",
   "execution_count": 128,
   "metadata": {},
   "outputs": [
    {
     "data": {
      "text/plain": [
       "'Büyük Ceza'"
      ]
     },
     "execution_count": 128,
     "metadata": {},
     "output_type": "execute_result"
    }
   ],
   "source": [
    "def caught_speeding(speed, is_birthday):\n",
    "\n",
    "    if is_birthday ==False and speed <=60 :\n",
    "        return \"Ceza Yok\"\n",
    "    elif is_birthday == False and (speed>61) and (speed<=80):\n",
    "        return \"Küçük Ceza\"\n",
    "\n",
    "    elif is_birthday == False and speed >= 81:\n",
    "        return \"Büyük Ceza\"\n",
    "\n",
    "    elif is_birthday == True and speed <=85:\n",
    "        return \"Küçük Ceza\"\n",
    "\n",
    "   \n",
    "caught_speeding(81,True)\n",
    "caught_speeding(81,False)\n"
   ]
  },
  {
   "cell_type": "code",
   "execution_count": 129,
   "metadata": {},
   "outputs": [],
   "source": [
    "def caught_speeding(speed, is_birthday):\n",
    "    \n",
    "     pass"
   ]
  },
  {
   "cell_type": "code",
   "execution_count": 8,
   "metadata": {},
   "outputs": [
    {
     "data": {
      "text/plain": [
       "'Küçük Ceza'"
      ]
     },
     "execution_count": 8,
     "metadata": {},
     "output_type": "execute_result"
    }
   ],
   "source": [
    "caught_speeding(81,True)"
   ]
  },
  {
   "cell_type": "code",
   "execution_count": 9,
   "metadata": {},
   "outputs": [
    {
     "data": {
      "text/plain": [
       "'Büyük Ceza'"
      ]
     },
     "execution_count": 9,
     "metadata": {},
     "output_type": "execute_result"
    }
   ],
   "source": [
    "caught_speeding(81,False)"
   ]
  }
 ],
 "metadata": {
  "kernelspec": {
   "display_name": "Python 3 (ipykernel)",
   "language": "python",
   "name": "python3"
  },
  "language_info": {
   "codemirror_mode": {
    "name": "ipython",
    "version": 3
   },
   "file_extension": ".py",
   "mimetype": "text/x-python",
   "name": "python",
   "nbconvert_exporter": "python",
   "pygments_lexer": "ipython3",
   "version": "3.9.12"
  },
  "varInspector": {
   "cols": {
    "lenName": 16,
    "lenType": 16,
    "lenVar": 40
   },
   "kernels_config": {
    "python": {
     "delete_cmd_postfix": "",
     "delete_cmd_prefix": "del ",
     "library": "var_list.py",
     "varRefreshCmd": "print(var_dic_list())"
    },
    "r": {
     "delete_cmd_postfix": ") ",
     "delete_cmd_prefix": "rm(",
     "library": "var_list.r",
     "varRefreshCmd": "cat(var_dic_list()) "
    }
   },
   "types_to_exclude": [
    "module",
    "function",
    "builtin_function_or_method",
    "instance",
    "_Feature"
   ],
   "window_display": false
  }
 },
 "nbformat": 4,
 "nbformat_minor": 1
}
